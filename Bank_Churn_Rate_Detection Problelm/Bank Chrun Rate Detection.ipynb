{
 "cells": [
  {
   "cell_type": "markdown",
   "metadata": {},
   "source": [
    "# Importing the Libraries"
   ]
  },
  {
   "cell_type": "code",
   "execution_count": 1,
   "metadata": {},
   "outputs": [],
   "source": [
    "import numpy as np\n",
    "import matplotlib.pyplot as plt\n",
    "import pandas as pd\n"
   ]
  },
  {
   "cell_type": "markdown",
   "metadata": {},
   "source": [
    "# Import the Dataset "
   ]
  },
  {
   "cell_type": "code",
   "execution_count": 2,
   "metadata": {},
   "outputs": [],
   "source": [
    "Dataset = pd.read_csv(r\"C:\\Users\\Rupankar\\Desktop\\Deep Learning\\Deep_Learning_A_Z\\Volume 1 - Supervised Deep Learning\\Part 1 - Artificial Neural Networks (ANN)\\Section 4 - Building an ANN\\Artificial_Neural_Networks\\Churn_Modelling.csv\")\n"
   ]
  },
  {
   "cell_type": "code",
   "execution_count": 3,
   "metadata": {},
   "outputs": [],
   "source": [
    "X= Dataset.iloc[: , 3:13 ].values\n",
    "Y=Dataset.iloc[: , -1].values"
   ]
  },
  {
   "cell_type": "markdown",
   "metadata": {},
   "source": [
    "# Encoding the Categorical Values"
   ]
  },
  {
   "cell_type": "code",
   "execution_count": null,
   "metadata": {},
   "outputs": [],
   "source": []
  },
  {
   "cell_type": "code",
   "execution_count": 4,
   "metadata": {},
   "outputs": [
    {
     "name": "stderr",
     "output_type": "stream",
     "text": [
      "C:\\Users\\Rupankar\\Anaconda3\\lib\\site-packages\\sklearn\\preprocessing\\_encoders.py:415: FutureWarning: The handling of integer data will change in version 0.22. Currently, the categories are determined based on the range [0, max(values)], while in the future they will be determined based on the unique values.\n",
      "If you want the future behaviour and silence this warning, you can specify \"categories='auto'\".\n",
      "In case you used a LabelEncoder before this OneHotEncoder to convert the categories to integers, then you can now use the OneHotEncoder directly.\n",
      "  warnings.warn(msg, FutureWarning)\n",
      "C:\\Users\\Rupankar\\Anaconda3\\lib\\site-packages\\sklearn\\preprocessing\\_encoders.py:451: DeprecationWarning: The 'categorical_features' keyword is deprecated in version 0.20 and will be removed in 0.22. You can use the ColumnTransformer instead.\n",
      "  \"use the ColumnTransformer instead.\", DeprecationWarning)\n"
     ]
    }
   ],
   "source": [
    "from sklearn.preprocessing import OneHotEncoder, LabelEncoder\n",
    "label_encoder_X_1 = LabelEncoder()\n",
    "X[: , 1]= label_encoder_X_1.fit_transform(X[:, 1])\n",
    "label_encoder_X_2= LabelEncoder()\n",
    "X[:, 2]=label_encoder_X_2.fit_transform(X[:, 2])\n",
    "onehot_encoder=OneHotEncoder(categorical_features=[1])\n",
    "X= onehot_encoder.fit_transform(X).toarray()\n",
    "X=X[:, 1:]"
   ]
  },
  {
   "cell_type": "markdown",
   "metadata": {},
   "source": [
    "# Data Preprocessing"
   ]
  },
  {
   "cell_type": "code",
   "execution_count": 5,
   "metadata": {},
   "outputs": [],
   "source": [
    "from sklearn.model_selection import train_test_split\n",
    "X_train,X_test, Y_train,Y_test= train_test_split(X,Y,test_size=0.2,random_state=1)"
   ]
  },
  {
   "cell_type": "code",
   "execution_count": 6,
   "metadata": {},
   "outputs": [],
   "source": [
    "from sklearn.preprocessing import StandardScaler\n",
    "sc=StandardScaler()\n",
    "X_train= sc.fit_transform(X_train)\n",
    "X_test=sc.transform(X_test)"
   ]
  },
  {
   "cell_type": "markdown",
   "metadata": {},
   "source": [
    "# Importing Keras Libraries and Packages"
   ]
  },
  {
   "cell_type": "code",
   "execution_count": 7,
   "metadata": {},
   "outputs": [
    {
     "name": "stderr",
     "output_type": "stream",
     "text": [
      "Using TensorFlow backend.\n"
     ]
    }
   ],
   "source": [
    "from keras.models import Sequential\n",
    "from keras.layers import Dense"
   ]
  },
  {
   "cell_type": "markdown",
   "metadata": {},
   "source": [
    "# Creating the ANN Model"
   ]
  },
  {
   "cell_type": "code",
   "execution_count": 8,
   "metadata": {},
   "outputs": [],
   "source": [
    "model = Sequential()"
   ]
  },
  {
   "cell_type": "markdown",
   "metadata": {},
   "source": [
    "# Adding the input layer and the first hidden layer"
   ]
  },
  {
   "cell_type": "code",
   "execution_count": 9,
   "metadata": {},
   "outputs": [],
   "source": [
    "model.add(Dense(units=6, kernel_initializer='uniform', activation='relu', input_dim=11))"
   ]
  },
  {
   "cell_type": "markdown",
   "metadata": {},
   "source": [
    "# Adding the second hidden layer"
   ]
  },
  {
   "cell_type": "code",
   "execution_count": 10,
   "metadata": {},
   "outputs": [],
   "source": [
    "model.add(Dense(units=6, kernel_initializer='uniform', activation='relu'))"
   ]
  },
  {
   "cell_type": "markdown",
   "metadata": {},
   "source": [
    "# Adding the output layer"
   ]
  },
  {
   "cell_type": "code",
   "execution_count": 11,
   "metadata": {},
   "outputs": [],
   "source": [
    "model.add(Dense(units=1, kernel_initializer='uniform', activation='sigmoid'))"
   ]
  },
  {
   "cell_type": "markdown",
   "metadata": {},
   "source": [
    "# Compiling the Model"
   ]
  },
  {
   "cell_type": "code",
   "execution_count": 12,
   "metadata": {},
   "outputs": [],
   "source": [
    "model.compile(optimizer='adam' , loss= 'binary_crossentropy', metrics=['accuracy'])"
   ]
  },
  {
   "cell_type": "markdown",
   "metadata": {},
   "source": [
    "# Fitting the Model to the Training Dataset"
   ]
  },
  {
   "cell_type": "code",
   "execution_count": 13,
   "metadata": {},
   "outputs": [
    {
     "name": "stdout",
     "output_type": "stream",
     "text": [
      "Epoch 1/100\n",
      "8000/8000 [==============================] - 5s 654us/step - loss: 0.4845 - accuracy: 0.7970\n",
      "Epoch 2/100\n",
      "8000/8000 [==============================] - 1s 175us/step - loss: 0.4285 - accuracy: 0.7972\n",
      "Epoch 3/100\n",
      "8000/8000 [==============================] - 2s 203us/step - loss: 0.4229 - accuracy: 0.7972\n",
      "Epoch 4/100\n",
      "8000/8000 [==============================] - 1s 169us/step - loss: 0.4186 - accuracy: 0.8221\n",
      "Epoch 5/100\n",
      "8000/8000 [==============================] - 4s 492us/step - loss: 0.4168 - accuracy: 0.8275\n",
      "Epoch 6/100\n",
      "8000/8000 [==============================] - 2s 227us/step - loss: 0.4148 - accuracy: 0.8304\n",
      "Epoch 7/100\n",
      "8000/8000 [==============================] - 4s 509us/step - loss: 0.4130 - accuracy: 0.8317\n",
      "Epoch 8/100\n",
      "8000/8000 [==============================] - 2s 272us/step - loss: 0.4121 - accuracy: 0.8325\n",
      "Epoch 9/100\n",
      "8000/8000 [==============================] - 4s 519us/step - loss: 0.4114 - accuracy: 0.8345\n",
      "Epoch 10/100\n",
      "8000/8000 [==============================] - 3s 432us/step - loss: 0.4101 - accuracy: 0.8342\n",
      "Epoch 11/100\n",
      "8000/8000 [==============================] - 3s 361us/step - loss: 0.4089 - accuracy: 0.8349\n",
      "Epoch 12/100\n",
      "8000/8000 [==============================] - 4s 562us/step - loss: 0.4082 - accuracy: 0.8350\n",
      "Epoch 13/100\n",
      "8000/8000 [==============================] - 3s 403us/step - loss: 0.4071 - accuracy: 0.8349\n",
      "Epoch 14/100\n",
      "8000/8000 [==============================] - 3s 405us/step - loss: 0.4072 - accuracy: 0.8339\n",
      "Epoch 15/100\n",
      "8000/8000 [==============================] - 4s 559us/step - loss: 0.4066 - accuracy: 0.8361\n",
      "Epoch 16/100\n",
      "8000/8000 [==============================] - 3s 412us/step - loss: 0.4064 - accuracy: 0.8354\n",
      "Epoch 17/100\n",
      "8000/8000 [==============================] - 4s 508us/step - loss: 0.4055 - accuracy: 0.8345\n",
      "Epoch 18/100\n",
      "8000/8000 [==============================] - 3s 313us/step - loss: 0.4055 - accuracy: 0.8365\n",
      "Epoch 19/100\n",
      "8000/8000 [==============================] - 3s 341us/step - loss: 0.4047 - accuracy: 0.8379\n",
      "Epoch 20/100\n",
      "8000/8000 [==============================] - 2s 259us/step - loss: 0.4048 - accuracy: 0.8354\n",
      "Epoch 21/100\n",
      "8000/8000 [==============================] - 2s 200us/step - loss: 0.4042 - accuracy: 0.8367\n",
      "Epoch 22/100\n",
      "8000/8000 [==============================] - 2s 189us/step - loss: 0.4044 - accuracy: 0.8364\n",
      "Epoch 23/100\n",
      "8000/8000 [==============================] - 4s 508us/step - loss: 0.4039 - accuracy: 0.8355\n",
      "Epoch 24/100\n",
      "8000/8000 [==============================] - 2s 297us/step - loss: 0.4037 - accuracy: 0.8359\n",
      "Epoch 25/100\n",
      "8000/8000 [==============================] - 3s 321us/step - loss: 0.4036 - accuracy: 0.8347\n",
      "Epoch 26/100\n",
      "8000/8000 [==============================] - 3s 382us/step - loss: 0.4031 - accuracy: 0.8351\n",
      "Epoch 27/100\n",
      "8000/8000 [==============================] - 3s 413us/step - loss: 0.4032 - accuracy: 0.8347\n",
      "Epoch 28/100\n",
      "8000/8000 [==============================] - 3s 383us/step - loss: 0.4030 - accuracy: 0.8349\n",
      "Epoch 29/100\n",
      "8000/8000 [==============================] - 4s 517us/step - loss: 0.4028 - accuracy: 0.8371\n",
      "Epoch 30/100\n",
      "8000/8000 [==============================] - 3s 333us/step - loss: 0.4027 - accuracy: 0.8355\n",
      "Epoch 31/100\n",
      "8000/8000 [==============================] - 4s 474us/step - loss: 0.4025 - accuracy: 0.8363\n",
      "Epoch 32/100\n",
      "8000/8000 [==============================] - 3s 413us/step - loss: 0.4026 - accuracy: 0.8364\n",
      "Epoch 33/100\n",
      "8000/8000 [==============================] - 4s 515us/step - loss: 0.4025 - accuracy: 0.8353\n",
      "Epoch 34/100\n",
      "8000/8000 [==============================] - 4s 466us/step - loss: 0.4025 - accuracy: 0.8345\n",
      "Epoch 35/100\n",
      "8000/8000 [==============================] - 4s 507us/step - loss: 0.4019 - accuracy: 0.8361\n",
      "Epoch 36/100\n",
      "8000/8000 [==============================] - 3s 430us/step - loss: 0.4016 - accuracy: 0.8364\n",
      "Epoch 37/100\n",
      "8000/8000 [==============================] - 4s 468us/step - loss: 0.4014 - accuracy: 0.8356\n",
      "Epoch 38/100\n",
      "8000/8000 [==============================] - 3s 388us/step - loss: 0.4020 - accuracy: 0.8353\n",
      "Epoch 39/100\n",
      "8000/8000 [==============================] - 4s 525us/step - loss: 0.4021 - accuracy: 0.8347\n",
      "Epoch 40/100\n",
      "8000/8000 [==============================] - 3s 400us/step - loss: 0.4017 - accuracy: 0.8353\n",
      "Epoch 41/100\n",
      "8000/8000 [==============================] - 3s 339us/step - loss: 0.4016 - accuracy: 0.8370\n",
      "Epoch 42/100\n",
      "8000/8000 [==============================] - 4s 541us/step - loss: 0.4015 - accuracy: 0.8353\n",
      "Epoch 43/100\n",
      "8000/8000 [==============================] - 4s 441us/step - loss: 0.4018 - accuracy: 0.8351\n",
      "Epoch 44/100\n",
      "8000/8000 [==============================] - 4s 481us/step - loss: 0.4014 - accuracy: 0.8357\n",
      "Epoch 45/100\n",
      "8000/8000 [==============================] - 4s 473us/step - loss: 0.4014 - accuracy: 0.8361\n",
      "Epoch 46/100\n",
      "8000/8000 [==============================] - 4s 447us/step - loss: 0.4012 - accuracy: 0.8356\n",
      "Epoch 47/100\n",
      "8000/8000 [==============================] - 3s 412us/step - loss: 0.4013 - accuracy: 0.8365\n",
      "Epoch 48/100\n",
      "8000/8000 [==============================] - 4s 470us/step - loss: 0.4009 - accuracy: 0.8382\n",
      "Epoch 49/100\n",
      "8000/8000 [==============================] - 3s 410us/step - loss: 0.4004 - accuracy: 0.8369\n",
      "Epoch 50/100\n",
      "8000/8000 [==============================] - 4s 501us/step - loss: 0.4007 - accuracy: 0.8363\n",
      "Epoch 51/100\n",
      "8000/8000 [==============================] - 3s 326us/step - loss: 0.4011 - accuracy: 0.8374\n",
      "Epoch 52/100\n",
      "8000/8000 [==============================] - 2s 303us/step - loss: 0.4005 - accuracy: 0.8364\n",
      "Epoch 53/100\n",
      "8000/8000 [==============================] - 2s 206us/step - loss: 0.4010 - accuracy: 0.8360\n",
      "Epoch 54/100\n",
      "8000/8000 [==============================] - 1s 178us/step - loss: 0.4012 - accuracy: 0.8369\n",
      "Epoch 55/100\n",
      "8000/8000 [==============================] - 1s 179us/step - loss: 0.4011 - accuracy: 0.8356\n",
      "Epoch 56/100\n",
      "8000/8000 [==============================] - 1s 174us/step - loss: 0.4010 - accuracy: 0.8355\n",
      "Epoch 57/100\n",
      "8000/8000 [==============================] - 1s 185us/step - loss: 0.4009 - accuracy: 0.8372\n",
      "Epoch 58/100\n",
      "8000/8000 [==============================] - 1s 178us/step - loss: 0.4005 - accuracy: 0.8355\n",
      "Epoch 59/100\n",
      "8000/8000 [==============================] - 1s 179us/step - loss: 0.4005 - accuracy: 0.8355\n",
      "Epoch 60/100\n",
      "8000/8000 [==============================] - 2s 189us/step - loss: 0.4007 - accuracy: 0.8357\n",
      "Epoch 61/100\n",
      "8000/8000 [==============================] - 1s 174us/step - loss: 0.4007 - accuracy: 0.8357\n",
      "Epoch 62/100\n",
      "8000/8000 [==============================] - 1s 179us/step - loss: 0.4005 - accuracy: 0.8363\n",
      "Epoch 63/100\n",
      "8000/8000 [==============================] - 1s 173us/step - loss: 0.4001 - accuracy: 0.8344\n",
      "Epoch 64/100\n",
      "8000/8000 [==============================] - 2s 191us/step - loss: 0.4003 - accuracy: 0.8349\n",
      "Epoch 65/100\n",
      "8000/8000 [==============================] - 3s 398us/step - loss: 0.4009 - accuracy: 0.8364\n",
      "Epoch 66/100\n",
      "8000/8000 [==============================] - 3s 433us/step - loss: 0.4008 - accuracy: 0.8353\n",
      "Epoch 67/100\n",
      "8000/8000 [==============================] - 4s 537us/step - loss: 0.4005 - accuracy: 0.8367\n",
      "Epoch 68/100\n",
      "8000/8000 [==============================] - 3s 363us/step - loss: 0.4003 - accuracy: 0.8351\n",
      "Epoch 69/100\n",
      "8000/8000 [==============================] - 4s 525us/step - loss: 0.4004 - accuracy: 0.8374\n",
      "Epoch 70/100\n",
      "8000/8000 [==============================] - 2s 307us/step - loss: 0.4005 - accuracy: 0.8350\n",
      "Epoch 71/100\n",
      "8000/8000 [==============================] - 2s 311us/step - loss: 0.4006 - accuracy: 0.8365\n",
      "Epoch 72/100\n",
      "8000/8000 [==============================] - 3s 423us/step - loss: 0.4000 - accuracy: 0.8356\n",
      "Epoch 73/100\n",
      "8000/8000 [==============================] - 3s 433us/step - loss: 0.4004 - accuracy: 0.8347\n",
      "Epoch 74/100\n",
      "8000/8000 [==============================] - 3s 317us/step - loss: 0.4005 - accuracy: 0.8365\n",
      "Epoch 75/100\n",
      "8000/8000 [==============================] - 2s 291us/step - loss: 0.4003 - accuracy: 0.8367\n",
      "Epoch 76/100\n",
      "8000/8000 [==============================] - 2s 277us/step - loss: 0.4003 - accuracy: 0.8357\n",
      "Epoch 77/100\n",
      "8000/8000 [==============================] - 2s 299us/step - loss: 0.4001 - accuracy: 0.8363\n",
      "Epoch 78/100\n",
      "8000/8000 [==============================] - 4s 475us/step - loss: 0.4005 - accuracy: 0.8370\n",
      "Epoch 79/100\n",
      "8000/8000 [==============================] - 4s 487us/step - loss: 0.4001 - accuracy: 0.8370\n",
      "Epoch 80/100\n",
      "8000/8000 [==============================] - 4s 525us/step - loss: 0.4002 - accuracy: 0.8378\n",
      "Epoch 81/100\n",
      "8000/8000 [==============================] - 4s 520us/step - loss: 0.4001 - accuracy: 0.8351\n",
      "Epoch 82/100\n",
      "8000/8000 [==============================] - 4s 456us/step - loss: 0.4007 - accuracy: 0.8360\n",
      "Epoch 83/100\n",
      "8000/8000 [==============================] - 4s 492us/step - loss: 0.4003 - accuracy: 0.8364\n",
      "Epoch 84/100\n",
      "8000/8000 [==============================] - 4s 522us/step - loss: 0.4003 - accuracy: 0.8344\n",
      "Epoch 85/100\n",
      "8000/8000 [==============================] - 4s 466us/step - loss: 0.4003 - accuracy: 0.8335\n",
      "Epoch 86/100\n",
      "8000/8000 [==============================] - 4s 489us/step - loss: 0.4002 - accuracy: 0.8371\n",
      "Epoch 87/100\n",
      "8000/8000 [==============================] - 4s 521us/step - loss: 0.4000 - accuracy: 0.8356\n",
      "Epoch 88/100\n",
      "8000/8000 [==============================] - 4s 463us/step - loss: 0.4000 - accuracy: 0.8353\n",
      "Epoch 89/100\n",
      "8000/8000 [==============================] - 4s 515us/step - loss: 0.4001 - accuracy: 0.8350\n",
      "Epoch 90/100\n",
      "8000/8000 [==============================] - 3s 437us/step - loss: 0.4001 - accuracy: 0.8365\n",
      "Epoch 91/100\n",
      "8000/8000 [==============================] - 4s 482us/step - loss: 0.4001 - accuracy: 0.8354\n",
      "Epoch 92/100\n",
      "8000/8000 [==============================] - 4s 463us/step - loss: 0.4000 - accuracy: 0.8367\n",
      "Epoch 93/100\n",
      "8000/8000 [==============================] - 4s 441us/step - loss: 0.4004 - accuracy: 0.8351\n",
      "Epoch 94/100\n",
      "8000/8000 [==============================] - 4s 499us/step - loss: 0.4001 - accuracy: 0.8367\n",
      "Epoch 95/100\n",
      "8000/8000 [==============================] - 4s 450us/step - loss: 0.4002 - accuracy: 0.8363\n",
      "Epoch 96/100\n",
      "8000/8000 [==============================] - 3s 382us/step - loss: 0.4000 - accuracy: 0.8367\n",
      "Epoch 97/100\n",
      "8000/8000 [==============================] - 4s 461us/step - loss: 0.4000 - accuracy: 0.8359\n",
      "Epoch 98/100\n",
      "8000/8000 [==============================] - 4s 517us/step - loss: 0.3999 - accuracy: 0.8371\n",
      "Epoch 99/100\n",
      "8000/8000 [==============================] - 4s 499us/step - loss: 0.3999 - accuracy: 0.8365\n",
      "Epoch 100/100\n",
      "8000/8000 [==============================] - 3s 417us/step - loss: 0.4000 - accuracy: 0.8357\n"
     ]
    },
    {
     "data": {
      "text/plain": [
       "<keras.callbacks.callbacks.History at 0x49a97672c8>"
      ]
     },
     "execution_count": 13,
     "metadata": {},
     "output_type": "execute_result"
    }
   ],
   "source": [
    "model.fit(X_train,Y_train, batch_size=10 , epochs= 100)"
   ]
  },
  {
   "cell_type": "markdown",
   "metadata": {},
   "source": [
    "# Predicting the Test Dataset"
   ]
  },
  {
   "cell_type": "code",
   "execution_count": 15,
   "metadata": {},
   "outputs": [],
   "source": [
    "Y_pred= model.predict(X_test)"
   ]
  },
  {
   "cell_type": "code",
   "execution_count": 17,
   "metadata": {},
   "outputs": [],
   "source": [
    "Y_pred = (Y_pred>0.5)"
   ]
  },
  {
   "cell_type": "code",
   "execution_count": 19,
   "metadata": {},
   "outputs": [],
   "source": [
    "from sklearn.metrics import confusion_matrix\n",
    "cm= confusion_matrix(Y_pred,Y_test)"
   ]
  },
  {
   "cell_type": "code",
   "execution_count": 20,
   "metadata": {},
   "outputs": [
    {
     "data": {
      "text/plain": [
       "array([[1539,  283],\n",
       "       [  46,  132]], dtype=int64)"
      ]
     },
     "execution_count": 20,
     "metadata": {},
     "output_type": "execute_result"
    }
   ],
   "source": [
    "cm"
   ]
  },
  {
   "cell_type": "markdown",
   "metadata": {},
   "source": [
    "# Appling the K-Fold Cross Validation"
   ]
  },
  {
   "cell_type": "code",
   "execution_count": 9,
   "metadata": {},
   "outputs": [],
   "source": [
    "from keras.wrappers.scikit_learn import KerasClassifier\n",
    "from sklearn.model_selection import cross_val_score"
   ]
  },
  {
   "cell_type": "markdown",
   "metadata": {},
   "source": [
    "# Building the Classifier Function"
   ]
  },
  {
   "cell_type": "code",
   "execution_count": 10,
   "metadata": {},
   "outputs": [],
   "source": [
    "def build_classifier():\n",
    "    model.add(Dense(units=6 ,kernel_initializer='uniform', activation='relu', input_dim=11))\n",
    "    model.add(Dense(units=6, kernel_initializer='uniform', activation='relu'))\n",
    "    model.add(Dense(units=1, kernel_initializer='uniform', activation='sigmoid'))\n",
    "    model.compile(optimizer='adam',loss='binary_crossentropy', metrics=['accuracy'])\n",
    "    return model\n"
   ]
  },
  {
   "cell_type": "markdown",
   "metadata": {},
   "source": [
    "# Applying the K-Fold Cross Validation Algo"
   ]
  },
  {
   "cell_type": "code",
   "execution_count": 11,
   "metadata": {},
   "outputs": [],
   "source": [
    "classifier=KerasClassifier(build_fn= build_classifier ,batch_size=10 , epochs= 100)\n",
    "accuracy=cross_val_score(estimator=classifier,X= X_train, y= Y_train, cv= 10, n_jobs= -1)"
   ]
  },
  {
   "cell_type": "code",
   "execution_count": 16,
   "metadata": {},
   "outputs": [],
   "source": [
    "mean=accuracy.mean()"
   ]
  },
  {
   "cell_type": "code",
   "execution_count": 17,
   "metadata": {},
   "outputs": [
    {
     "name": "stdout",
     "output_type": "stream",
     "text": [
      "0.8412500023841858\n"
     ]
    }
   ],
   "source": [
    "print(mean)"
   ]
  },
  {
   "cell_type": "markdown",
   "metadata": {},
   "source": [
    "# Tunning the ANN"
   ]
  },
  {
   "cell_type": "code",
   "execution_count": 12,
   "metadata": {},
   "outputs": [],
   "source": [
    "from keras.wrappers.scikit_learn import KerasClassifier\n",
    "from sklearn.model_selection import GridSearchCV"
   ]
  },
  {
   "cell_type": "code",
   "execution_count": 13,
   "metadata": {},
   "outputs": [],
   "source": [
    "def build_classifier(optimizer):\n",
    "    model.add(Dense(units=6 ,kernel_initializer='uniform', activation='relu', input_dim=11))\n",
    "    model.add(Dense(units=6, kernel_initializer='uniform', activation='relu'))\n",
    "    model.add(Dense(units=1, kernel_initializer='uniform', activation='sigmoid'))\n",
    "    model.compile(optimizer=optimizer ,loss='binary_crossentropy', metrics=['accuracy'])\n",
    "    return model"
   ]
  },
  {
   "cell_type": "code",
   "execution_count": 14,
   "metadata": {},
   "outputs": [],
   "source": [
    "classifier = KerasClassifier(build_fn= build_classifier)"
   ]
  },
  {
   "cell_type": "code",
   "execution_count": 15,
   "metadata": {},
   "outputs": [],
   "source": [
    "parameter={'batch_size' : [32,64],\n",
    "           'epochs' : [100,500],\n",
    "           'optimizer' : ['adam', 'rmsprop']\n",
    "          }"
   ]
  },
  {
   "cell_type": "code",
   "execution_count": null,
   "metadata": {},
   "outputs": [],
   "source": [
    "grid_search = GridSearchCV(estimator= classifier, param_grid= parameter, scoring= 'accuracy', cv=10)\n",
    "grid_search=grid_search.fit(X_train,Y_train)\n",
    "best_parameter = grid_search.best_params_\n",
    "best_accuracy=grid_search.best_score_"
   ]
  },
  {
   "cell_type": "code",
   "execution_count": null,
   "metadata": {},
   "outputs": [],
   "source": []
  },
  {
   "cell_type": "code",
   "execution_count": null,
   "metadata": {},
   "outputs": [],
   "source": []
  }
 ],
 "metadata": {
  "kernelspec": {
   "display_name": "Python 3",
   "language": "python",
   "name": "python3"
  },
  "language_info": {
   "codemirror_mode": {
    "name": "ipython",
    "version": 3
   },
   "file_extension": ".py",
   "mimetype": "text/x-python",
   "name": "python",
   "nbconvert_exporter": "python",
   "pygments_lexer": "ipython3",
   "version": "3.7.4"
  }
 },
 "nbformat": 4,
 "nbformat_minor": 2
}
